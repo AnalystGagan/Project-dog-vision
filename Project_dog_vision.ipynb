{
  "nbformat": 4,
  "nbformat_minor": 0,
  "metadata": {
    "colab": {
      "name": "Project-dog-vision",
      "provenance": [],
      "mount_file_id": "1gvx_KaLlFekJGBF2JYeLWy6OV9TwLs1e",
      "authorship_tag": "ABX9TyP7i+rb+1nGCT901vcbg39I",
      "include_colab_link": true
    },
    "kernelspec": {
      "name": "python3",
      "display_name": "Python 3"
    },
    "accelerator": "GPU"
  },
  "cells": [
    {
      "cell_type": "markdown",
      "metadata": {
        "id": "view-in-github",
        "colab_type": "text"
      },
      "source": [
        "<a href=\"https://colab.research.google.com/github/AnalystGagan/Project-dog-vision/blob/master/Project_dog_vision.ipynb\" target=\"_parent\"><img src=\"https://colab.research.google.com/assets/colab-badge.svg\" alt=\"Open In Colab\"/></a>"
      ]
    },
    {
      "cell_type": "markdown",
      "metadata": {
        "id": "kx3FciKRCeys",
        "colab_type": "text"
      },
      "source": [
        "# 🐶 End-to-End Multi-Class Dog Breed Classification\n",
        "\n",
        "This notebook builds an End-to-end Multi-Class Image Classifier using Tensorflow Hub.\n",
        "\n",
        "\n",
        "## 1.Problem\n",
        "Identifying the breed of a dog given an image of a dog\n",
        "\n",
        "When I am sitting at the Starbucks and I take a photo of a dog, want to know what breed of a dog it is. \n",
        "## 2.Data \n",
        "The data we are using is from Kaggel's dog breed identification compitition \n",
        "\n",
        "https://www.kaggle.com/c/dog-breed-identification/data\n",
        "## 3.Evaluation\n",
        "The Evaluation is a file with prediction probabilities for each dog breed of each test Image.\n",
        "\n",
        "https://www.kaggle.com/c/dog-breed-identification/overview/evaluation\n",
        "## 4.Features\n",
        "Some information about the data:\n",
        "\n",
        "* we are dealing with images (unstructured data ) so it is probably best se use deep learning/ transfer learning. \n",
        "* There are 120 breeds of dogs (this means there are 120 different classes).\n",
        "* There are around 10,000+ images in training dataset (These images has labels)\n",
        "* There are around 10,000+ images in test dataset (These images do not have labels, becasue we'll want to predict them).\n",
        "\n",
        "\n",
        "\n"
      ]
    },
    {
      "cell_type": "code",
      "metadata": {
        "id": "ZVkdS2kfnt_j",
        "colab_type": "code",
        "colab": {}
      },
      "source": [
        "# Unzip the uploaded data into google Drive\n",
        "\n",
        "#!unzip \"drive/My Drive/dog-vision-data/dog-breed-identification.zip\" -d \"drive/My Drive/dog-vision-data/\""
      ],
      "execution_count": null,
      "outputs": []
    },
    {
      "cell_type": "markdown",
      "metadata": {
        "id": "RUjgSb8PgONK",
        "colab_type": "text"
      },
      "source": [
        "### Getting our workspace ready \n",
        "\n",
        "* Import TensorFlow 2.x ✔️\n",
        "* Import TensorFlow Hub ✔️\n",
        "* Make sure we are using a GPU ✔️\n"
      ]
    },
    {
      "cell_type": "code",
      "metadata": {
        "id": "MtpwB84q2lbe",
        "colab_type": "code",
        "colab": {
          "base_uri": "https://localhost:8080/",
          "height": 68
        },
        "outputId": "6d235503-6821-4c0a-aab6-6791242456ff"
      },
      "source": [
        "# Import necessary tools\n",
        "import tensorflow as tf\n",
        "import tensorflow_hub as hub\n",
        "print(\"TF version :\", tf.__version__)\n",
        "print(\"TF Hub version:\",hub.__version__)\n",
        "\n",
        "# Check for GPU availablity \n",
        "print(\"GPU\",\"available (Yessssssss!!!!)\" if tf.config.list_physical_devices(\"GPU\") else \"not available :(\")"
      ],
      "execution_count": 1,
      "outputs": [
        {
          "output_type": "stream",
          "text": [
            "TF version : 2.2.0\n",
            "TF Hub version: 0.8.0\n",
            "GPU available (Yessssssss!!!!)\n"
          ],
          "name": "stdout"
        }
      ]
    },
    {
      "cell_type": "markdown",
      "metadata": {
        "id": "HAnjdOkhguTA",
        "colab_type": "text"
      },
      "source": [
        "## Getting our data ready (Turning into Tensors)\n",
        "\n",
        "With all Machine Leanring models, our data has to be in numerical format. So that's what we will be doing first. Turning our images into Tensors(numerical representations)\n",
        "\n",
        "Let's start by accessing our data and checking out checking out the labels."
      ]
    },
    {
      "cell_type": "code",
      "metadata": {
        "id": "6QWSQOexVu_y",
        "colab_type": "code",
        "colab": {
          "base_uri": "https://localhost:8080/",
          "height": 204
        },
        "outputId": "5d43b0c4-2f34-4a10-ddda-b3a95eb0e10f"
      },
      "source": [
        "# Checkout the labels of our data \n",
        "import pandas as pd \n",
        "# Path --> /content/drive/My Drive/dog-vision-data/labels.csv\n",
        "labels_csv = pd.read_csv(\"drive/My Drive/dog-vision-data/labels.csv\")\n",
        "print(labels_csv.describe())\n",
        "print(labels_csv.head())"
      ],
      "execution_count": 2,
      "outputs": [
        {
          "output_type": "stream",
          "text": [
            "                                      id               breed\n",
            "count                              10222               10222\n",
            "unique                             10222                 120\n",
            "top     d6bcaac6c121bd89f127f6b839959510  scottish_deerhound\n",
            "freq                                   1                 126\n",
            "                                 id             breed\n",
            "0  000bec180eb18c7604dcecc8fe0dba07       boston_bull\n",
            "1  001513dfcb2ffafc82cccf4d8bbaba97             dingo\n",
            "2  001cdf01b096e06d78e9e5112d419397          pekinese\n",
            "3  00214f311d5d2247d5dfe4fe24b2303d          bluetick\n",
            "4  0021f9ceb3235effd7fcde7f7538ed62  golden_retriever\n"
          ],
          "name": "stdout"
        }
      ]
    },
    {
      "cell_type": "code",
      "metadata": {
        "id": "AObxEk1DXb33",
        "colab_type": "code",
        "colab": {}
      },
      "source": [
        ""
      ],
      "execution_count": null,
      "outputs": []
    }
  ]
}