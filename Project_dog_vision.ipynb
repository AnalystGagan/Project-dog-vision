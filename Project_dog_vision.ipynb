{
  "nbformat": 4,
  "nbformat_minor": 0,
  "metadata": {
    "colab": {
      "name": "Project-dog-vision",
      "provenance": [],
      "toc_visible": true,
      "mount_file_id": "1gvx_KaLlFekJGBF2JYeLWy6OV9TwLs1e",
      "authorship_tag": "ABX9TyMyNEqWmdAt5J5MhnzYJlDw",
      "include_colab_link": true
    },
    "kernelspec": {
      "name": "python3",
      "display_name": "Python 3"
    }
  },
  "cells": [
    {
      "cell_type": "markdown",
      "metadata": {
        "id": "view-in-github",
        "colab_type": "text"
      },
      "source": [
        "<a href=\"https://colab.research.google.com/github/AnalystGagan/Project-dog-vision/blob/master/Project_dog_vision.ipynb\" target=\"_parent\"><img src=\"https://colab.research.google.com/assets/colab-badge.svg\" alt=\"Open In Colab\"/></a>"
      ]
    },
    {
      "cell_type": "markdown",
      "metadata": {
        "id": "kx3FciKRCeys",
        "colab_type": "text"
      },
      "source": [
        "# 🐶 End-to-End Multi-Class Dog Breed Classification\n",
        "\n",
        "This notebook builds an End-to-end Multi-Class Image Classifier using Tensorflow Hub.\n",
        "\n",
        "\n",
        "## 1.Problem\n",
        "Identifying the breed of a dog given an image of a dog\n",
        "\n",
        "When I am sitting at the Starbucks and I take a photo of a dog, want to know what breed of a dog it is. \n",
        "## 2.Data \n",
        "The data we are using is from Kaggel's dog breed identification compitition \n",
        "\n",
        "https://www.kaggle.com/c/dog-breed-identification/data\n",
        "## 3.Evaluation\n",
        "The Evaluation is a file with prediction probabilities for each dog breed of each test Image.\n",
        "\n",
        "https://www.kaggle.com/c/dog-breed-identification/overview/evaluation\n",
        "## 4.Features\n",
        "Some information about the data:\n",
        "\n",
        "* we are dealing with images (unstructured data ) so it is probably best se use deep learning/ transfer learning. \n",
        "* There are 120 breeds of dogs (this means there are 120 different classes).\n",
        "* There are around 10,000+ images in training dataset (These images has labels)\n",
        "* There are around 10,000+ images in test dataset (These images do not have labels, becasue we'll want to predict them).\n",
        "\n",
        "\n",
        "\n"
      ]
    },
    {
      "cell_type": "code",
      "metadata": {
        "id": "ZVkdS2kfnt_j",
        "colab_type": "code",
        "colab": {}
      },
      "source": [
        "# Unzip the uploaded data into google Drive\n",
        "\n",
        "#!unzip \"drive/My Drive/dog-vision-data/dog-breed-identification.zip\" -d \"drive/My Drive/dog-vision-data/\""
      ],
      "execution_count": 4,
      "outputs": []
    },
    {
      "cell_type": "markdown",
      "metadata": {
        "id": "RUjgSb8PgONK",
        "colab_type": "text"
      },
      "source": [
        "### Getting our workspace ready "
      ]
    },
    {
      "cell_type": "code",
      "metadata": {
        "id": "MtpwB84q2lbe",
        "colab_type": "code",
        "colab": {
          "base_uri": "https://localhost:8080/",
          "height": 34
        },
        "outputId": "077d7def-7aa4-4374-b59a-34892dbf96af"
      },
      "source": [
        "# Import TensorFlow into Colab \n",
        "\n",
        "import tensorflow as tf\n",
        "print(\"TF version :\", tf.__version__)"
      ],
      "execution_count": 5,
      "outputs": [
        {
          "output_type": "stream",
          "text": [
            "TF version : 2.2.0\n"
          ],
          "name": "stdout"
        }
      ]
    },
    {
      "cell_type": "code",
      "metadata": {
        "id": "HAnjdOkhguTA",
        "colab_type": "code",
        "colab": {}
      },
      "source": [
        ""
      ],
      "execution_count": null,
      "outputs": []
    }
  ]
}